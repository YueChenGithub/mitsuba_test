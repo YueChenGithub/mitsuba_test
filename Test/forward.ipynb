{
 "cells": [
  {
   "cell_type": "code",
   "execution_count": 1,
   "id": "d170d0c3-12db-47ee-b83b-b9a8bcb36e74",
   "metadata": {
    "pycharm": {
     "name": "#%%\n"
    }
   },
   "outputs": [
    {
     "data": {
      "text/html": [
       "<span style=\"font-family: monospace; color: #000\">2022-05-29 18:07:30 INFO  main  [xml.cpp:1221] Loading XML file &quot;bunny2.xml&quot; ..</span>"
      ]
     },
     "metadata": {},
     "output_type": "display_data"
    },
    {
     "data": {
      "text/html": [
       "<span style=\"font-family: monospace; color: #000\">2022-05-29 18:07:30 INFO  main  [xml.cpp:1222] Using variant &quot;scalar_rgb&quot;</span>"
      ]
     },
     "metadata": {},
     "output_type": "display_data"
    },
    {
     "data": {
      "text/html": [
       "<span style=\"font-family: monospace; color: #000\">2022-05-29 18:07:30 INFO  main  [xml.cpp:355] &quot;bunny2.xml&quot;: in-memory version upgrade (v2.0.0 -&gt; v2.2.1) ..</span>"
      ]
     },
     "metadata": {},
     "output_type": "display_data"
    },
    {
     "data": {
      "text/html": [
       "<span style=\"font-family: monospace; color: #000\">2022-05-29 18:07:30 INFO  main  [PluginManager] Loading plugin &quot;plugins/srgb.so&quot; ..</span>"
      ]
     },
     "metadata": {},
     "output_type": "display_data"
    },
    {
     "data": {
      "text/html": [
       "<span style=\"font-family: monospace; color: #000\">2022-05-29 18:07:30 INFO  main  [PluginManager] Loading plugin &quot;plugins/uniform.so&quot; ..</span>"
      ]
     },
     "metadata": {},
     "output_type": "display_data"
    },
    {
     "data": {
      "text/html": [
       "<span style=\"font-family: monospace; color: #000\">2022-05-29 18:07:30 INFO  main  [PluginManager] Loading plugin &quot;plugins/path.so&quot; ..</span>"
      ]
     },
     "metadata": {},
     "output_type": "display_data"
    },
    {
     "data": {
      "text/html": [
       "<span style=\"font-family: monospace; color: #000\">2022-05-29 18:07:30 INFO  tbb00 [PluginManager] Loading plugin &quot;plugins/diffuse.so&quot; ..</span>"
      ]
     },
     "metadata": {},
     "output_type": "display_data"
    },
    {
     "data": {
      "text/html": [
       "<span style=\"font-family: monospace; color: #000\">2022-05-29 18:07:30 INFO  tbb01 [PluginManager] Loading plugin &quot;plugins/independent.so&quot; ..</span>"
      ]
     },
     "metadata": {},
     "output_type": "display_data"
    },
    {
     "data": {
      "text/html": [
       "<span style=\"font-family: monospace; color: #000\">2022-05-29 18:07:30 INFO  tbb03 [PluginManager] Loading plugin &quot;plugins/point.so&quot; ..</span>"
      ]
     },
     "metadata": {},
     "output_type": "display_data"
    },
    {
     "data": {
      "text/html": [
       "<span style=\"font-family: monospace; color: #000\">2022-05-29 18:07:30 INFO  tbb02 [PluginManager] Loading plugin &quot;plugins/hdrfilm.so&quot; ..</span>"
      ]
     },
     "metadata": {},
     "output_type": "display_data"
    },
    {
     "data": {
      "text/html": [
       "<span style=\"font-family: monospace; color: #000\">2022-05-29 18:07:30 INFO  tbb02 [PluginManager] Loading plugin &quot;plugins/gaussian.so&quot; ..</span>"
      ]
     },
     "metadata": {},
     "output_type": "display_data"
    },
    {
     "data": {
      "text/html": [
       "<span style=\"font-family: monospace; color: #000\">2022-05-29 18:07:30 INFO  tbb00 [PluginManager] Loading plugin &quot;plugins/ply.so&quot; ..</span>"
      ]
     },
     "metadata": {},
     "output_type": "display_data"
    },
    {
     "data": {
      "text/html": [
       "<span style=\"font-family: monospace; color: #000\">2022-05-29 18:07:30 INFO  tbb01 [PluginManager] Loading plugin &quot;plugins/perspective.so&quot; ..</span>"
      ]
     },
     "metadata": {},
     "output_type": "display_data"
    },
    {
     "data": {
      "text/html": [
       "<span style=\"font-family: monospace; color: #f55\">2022-05-29 18:07:30 WARN  tbb00 [Mesh] &quot;bunny2.ply&quot;: computed vertex normals (1113 invalid vertices!)</span>"
      ]
     },
     "metadata": {},
     "output_type": "display_data"
    },
    {
     "data": {
      "text/html": [
       "<span style=\"font-family: monospace; color: #000\">2022-05-29 18:07:30 INFO  main  [ShapeKDTree] Building a SAH kd-tree (1000 primitives) ..</span>"
      ]
     },
     "metadata": {},
     "output_type": "display_data"
    },
    {
     "data": {
      "text/html": [
       "<span style=\"font-family: monospace; color: #000\">2022-05-29 18:07:30 INFO  main  [ShapeKDTree] Finished. (70.5 KiB of storage, took 4ms)</span>"
      ]
     },
     "metadata": {},
     "output_type": "display_data"
    },
    {
     "data": {
      "text/html": [
       "<span style=\"font-family: monospace; color: #000\">2022-05-29 18:07:30 INFO  main  [SamplingIntegrator] Starting render job (1920x1080, 32 samples, 16 threads)</span>"
      ]
     },
     "metadata": {},
     "output_type": "display_data"
    },
    {
     "data": {
      "application/vnd.jupyter.widget-view+json": {
       "model_id": "68f17cbef4cc466fab0bec11d7b4e776",
       "version_major": 2,
       "version_minor": 0
      },
      "text/plain": [
       "VBox(children=(HTML(value=''), FloatProgress(value=0.0, bar_style='info', layout=Layout(width='100%'), max=1.0…"
      ]
     },
     "metadata": {},
     "output_type": "display_data"
    },
    {
     "data": {
      "text/html": [
       "<span style=\"font-family: monospace; color: #000\">2022-05-29 18:07:32 INFO  main  [SamplingIntegrator] Rendering finished. (took 1.541s)</span>"
      ]
     },
     "metadata": {},
     "output_type": "display_data"
    },
    {
     "name": "stdout",
     "output_type": "stream",
     "text": [
      "(1080, 1920, 3)\n"
     ]
    }
   ],
   "source": [
    "import sys\n",
    "sys.path.extend(['/home/y/Desktop/mitsuba_test', '/home/y/Desktop/mitsuba_test/external/mitsuba2/build/dist/python'])\n",
    "import os\n",
    "import numpy as np\n",
    "import mitsuba\n",
    "\n",
    "# Set the desired mitsuba variant\n",
    "mitsuba.set_variant('scalar_rgb')\n",
    "\n",
    "from mitsuba.core import Bitmap, Struct, Thread\n",
    "from mitsuba.core.xml import load_file\n",
    "\n",
    "# Absolute or relative path to the XML file\n",
    "filename = 'bunny2.xml'\n",
    "\n",
    "# Add the scene directory to the FileResolver's search path\n",
    "Thread.thread().file_resolver().append(os.path.dirname(filename))\n",
    "\n",
    "# Load the actual scene\n",
    "scene = load_file(filename)\n",
    "\n",
    "# Call the scene's integrator to render the loaded scene\n",
    "scene.integrator().render(scene, scene.sensors()[0])\n",
    "\n",
    "# After rendering, the rendered data is stored in the film\n",
    "film = scene.sensors()[0].film()\n",
    "\n",
    "# # Write out rendering as high dynamic range OpenEXR file\n",
    "# film.set_destination_file('/path/to/output.exr')\n",
    "# film.develop()\n",
    "\n",
    "# Write out a tonemapped JPG of the same rendering\n",
    "bmp = film.bitmap(raw=True)\n",
    "bmp.convert(Bitmap.PixelFormat.RGB, Struct.Type.UInt8, srgb_gamma=True).write('output.jpg')\n",
    "\n",
    "# Get linear pixel values as a numpy array for further processing\n",
    "bmp_linear_rgb = bmp.convert(Bitmap.PixelFormat.RGB, Struct.Type.Float32, srgb_gamma=False)\n",
    "image_np = np.array(bmp_linear_rgb)\n",
    "print(image_np.shape)\n"
   ]
  },
  {
   "cell_type": "code",
   "execution_count": null,
   "id": "4939f64e-aac7-425b-96f4-6c217f918df0",
   "metadata": {
    "pycharm": {
     "name": "#%%\n"
    }
   },
   "outputs": [],
   "source": []
  }
 ],
 "metadata": {
  "kernelspec": {
   "display_name": "Python 3 (ipykernel)",
   "language": "python",
   "name": "python3"
  },
  "language_info": {
   "codemirror_mode": {
    "name": "ipython",
    "version": 3
   },
   "file_extension": ".py",
   "mimetype": "text/x-python",
   "name": "python",
   "nbconvert_exporter": "python",
   "pygments_lexer": "ipython3",
   "version": "3.8.13"
  }
 },
 "nbformat": 4,
 "nbformat_minor": 5
}