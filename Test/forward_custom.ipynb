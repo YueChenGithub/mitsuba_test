{
 "cells": [
  {
   "cell_type": "code",
   "execution_count": 1,
   "id": "991085f2-161a-42e5-9b9e-93dd898e19e3",
   "metadata": {
    "pycharm": {
     "name": "#%%\n"
    }
   },
   "outputs": [],
   "source": [
    "import sys\n",
    "sys.path.extend(['/home/y/Desktop/mitsuba_test', '/home/y/Desktop/mitsuba_test/external/mitsuba2/build/dist/python'])\n"
   ]
  },
  {
   "cell_type": "code",
   "execution_count": 2,
   "id": "22033f80-a7d9-43f6-943d-b04c63eeb311",
   "metadata": {
    "pycharm": {
     "name": "#%%\n"
    }
   },
   "outputs": [
    {
     "data": {
      "text/html": [
       "<span style=\"font-family: monospace; color: #000\">2022-05-29 20:57:16 INFO  main  [xml.cpp:1221] Loading XML file &quot;bunny2.xml&quot; ..</span>"
      ]
     },
     "metadata": {},
     "output_type": "display_data"
    },
    {
     "data": {
      "text/html": [
       "<span style=\"font-family: monospace; color: #000\">2022-05-29 20:57:16 INFO  main  [xml.cpp:1222] Using variant &quot;packet_rgb&quot;</span>"
      ]
     },
     "metadata": {},
     "output_type": "display_data"
    },
    {
     "data": {
      "text/html": [
       "<span style=\"font-family: monospace; color: #000\">2022-05-29 20:57:16 INFO  main  [xml.cpp:355] &quot;bunny2.xml&quot;: in-memory version upgrade (v2.0.0 -&gt; v2.2.1) ..</span>"
      ]
     },
     "metadata": {},
     "output_type": "display_data"
    },
    {
     "data": {
      "text/html": [
       "<span style=\"font-family: monospace; color: #000\">2022-05-29 20:57:16 INFO  main  [PluginManager] Loading plugin &quot;plugins/srgb.so&quot; ..</span>"
      ]
     },
     "metadata": {},
     "output_type": "display_data"
    },
    {
     "data": {
      "text/html": [
       "<span style=\"font-family: monospace; color: #000\">2022-05-29 20:57:16 INFO  main  [PluginManager] Loading plugin &quot;plugins/uniform.so&quot; ..</span>"
      ]
     },
     "metadata": {},
     "output_type": "display_data"
    },
    {
     "data": {
      "text/html": [
       "<span style=\"font-family: monospace; color: #000\">2022-05-29 20:57:16 INFO  main  [PluginManager] Loading plugin &quot;plugins/path.so&quot; ..</span>"
      ]
     },
     "metadata": {},
     "output_type": "display_data"
    },
    {
     "data": {
      "text/html": [
       "<span style=\"font-family: monospace; color: #000\">2022-05-29 20:57:16 INFO  tbb00 [PluginManager] Loading plugin &quot;plugins/diffuse.so&quot; ..</span>"
      ]
     },
     "metadata": {},
     "output_type": "display_data"
    },
    {
     "data": {
      "text/html": [
       "<span style=\"font-family: monospace; color: #000\">2022-05-29 20:57:16 INFO  tbb01 [PluginManager] Loading plugin &quot;plugins/point.so&quot; ..</span>"
      ]
     },
     "metadata": {},
     "output_type": "display_data"
    },
    {
     "data": {
      "text/html": [
       "<span style=\"font-family: monospace; color: #000\">2022-05-29 20:57:16 INFO  tbb02 [PluginManager] Loading plugin &quot;plugins/independent.so&quot; ..</span>"
      ]
     },
     "metadata": {},
     "output_type": "display_data"
    },
    {
     "data": {
      "text/html": [
       "<span style=\"font-family: monospace; color: #000\">2022-05-29 20:57:16 INFO  tbb03 [PluginManager] Loading plugin &quot;plugins/hdrfilm.so&quot; ..</span>"
      ]
     },
     "metadata": {},
     "output_type": "display_data"
    },
    {
     "data": {
      "text/html": [
       "<span style=\"font-family: monospace; color: #000\">2022-05-29 20:57:16 INFO  tbb03 [PluginManager] Loading plugin &quot;plugins/gaussian.so&quot; ..</span>"
      ]
     },
     "metadata": {},
     "output_type": "display_data"
    },
    {
     "data": {
      "text/html": [
       "<span style=\"font-family: monospace; color: #000\">2022-05-29 20:57:16 INFO  tbb00 [PluginManager] Loading plugin &quot;plugins/ply.so&quot; ..</span>"
      ]
     },
     "metadata": {},
     "output_type": "display_data"
    },
    {
     "data": {
      "text/html": [
       "<span style=\"font-family: monospace; color: #000\">2022-05-29 20:57:16 INFO  tbb02 [PluginManager] Loading plugin &quot;plugins/perspective.so&quot; ..</span>"
      ]
     },
     "metadata": {},
     "output_type": "display_data"
    },
    {
     "data": {
      "text/html": [
       "<span style=\"font-family: monospace; color: #f55\">2022-05-29 20:57:16 WARN  tbb00 [Mesh] &quot;bunny2.ply&quot;: computed vertex normals (1113 invalid vertices!)</span>"
      ]
     },
     "metadata": {},
     "output_type": "display_data"
    },
    {
     "data": {
      "text/html": [
       "<span style=\"font-family: monospace; color: #000\">2022-05-29 20:57:16 INFO  main  [ShapeKDTree] Building a SAH kd-tree (1000 primitives) ..</span>"
      ]
     },
     "metadata": {},
     "output_type": "display_data"
    },
    {
     "data": {
      "text/html": [
       "<span style=\"font-family: monospace; color: #000\">2022-05-29 20:57:16 INFO  main  [ShapeKDTree] Finished. (70.5 KiB of storage, took 4ms)</span>"
      ]
     },
     "metadata": {},
     "output_type": "display_data"
    }
   ],
   "source": [
    "import os\n",
    "import enoki as ek\n",
    "import numpy as np\n",
    "import mitsuba\n",
    "\n",
    "# Set the desired mitsuba variant\n",
    "mitsuba.set_variant('packet_rgb')\n",
    "\n",
    "from mitsuba.core import Float, UInt32, UInt64, Vector2f, Vector3f\n",
    "from mitsuba.core import Bitmap, Struct, Thread\n",
    "from mitsuba.core.xml import load_file\n",
    "from mitsuba.render import ImageBlock\n",
    "\n",
    "# Absolute or relative path to the XML file\n",
    "filename = 'bunny2.xml'\n",
    "\n",
    "# Add the scene directory to the FileResolver's search path\n",
    "Thread.thread().file_resolver().append(os.path.dirname(filename))\n",
    "\n",
    "# Load the scene\n",
    "scene = load_file(filename)\n",
    "\n",
    "\n"
   ]
  },
  {
   "cell_type": "code",
   "execution_count": 3,
   "id": "952de32e-e914-41f7-95f6-e26d561f5add",
   "metadata": {
    "pycharm": {
     "name": "#%%\n"
    }
   },
   "outputs": [],
   "source": [
    "# Instead of calling the scene's integrator, we build our own small integrator\n",
    "# This integrator simply computes the depth values per pixel\n",
    "sensor = scene.sensors()[0]\n",
    "film = sensor.film()\n",
    "sampler = sensor.sampler()\n",
    "film_size = film.crop_size()\n",
    "spp = 32\n",
    "\n",
    "# Seed the sampler\n",
    "total_sample_count = ek.hprod(film_size) * spp\n",
    "\n",
    "if sampler.wavefront_size() != total_sample_count:\n",
    "    sampler.seed(0, total_sample_count)\n",
    "\n",
    "# Enumerate discrete sample & pixel indices, and uniformly sample\n",
    "# positions within each pixel.\n",
    "pos = ek.arange(UInt32, total_sample_count)\n",
    "\n",
    "pos //= spp\n",
    "scale = Vector2f(1.0 / film_size[0], 1.0 / film_size[1])\n",
    "pos = Vector2f(Float(pos  % int(film_size[0])),\n",
    "               Float(pos // int(film_size[0])))\n",
    "\n",
    "pos += sampler.next_2d()\n",
    "\n",
    "# Sample rays starting from the camera sensor\n",
    "rays, weights = sensor.sample_ray_differential(\n",
    "    time=0,\n",
    "    sample1=sampler.next_1d(),\n",
    "    sample2=pos * scale,\n",
    "    sample3=0\n",
    ")\n",
    "\n",
    "# Intersect rays with the scene geometry\n",
    "surface_interaction = scene.ray_intersect(rays)\n",
    "\n",
    "# Given intersection, compute the final pixel values as the depth t\n",
    "# of the sampled surface interaction\n",
    "result = surface_interaction.t\n",
    "\n",
    "# Set to zero if no intersection was found\n",
    "result[~surface_interaction.is_valid()] = 0\n",
    "\n",
    "block = ImageBlock(\n",
    "    film.crop_size(),\n",
    "    channel_count=5,\n",
    "    filter=film.reconstruction_filter(),\n",
    "    border=False\n",
    ")\n",
    "block.clear()\n",
    "# ImageBlock expects RGB values (Array of size (n, 3))\n",
    "block.put(pos, rays.wavelengths, Vector3f(result, result, result), 1)\n",
    "\n",
    "# Write out the result from the ImageBlock\n",
    "# Internally, ImageBlock stores values in XYZAW format\n",
    "# (color XYZ, alpha value A and weight W)\n",
    "xyzaw_np = np.array(block.data()).reshape([film_size[1], film_size[0], 5])\n",
    "\n",
    "# We then create a Bitmap from these values and save it out as EXR file\n",
    "bmp = Bitmap(xyzaw_np, Bitmap.PixelFormat.XYZAW)\n",
    "bmp = bmp.convert(Bitmap.PixelFormat.RGB, Struct.Type.UInt8, srgb_gamma=True)\n",
    "bmp.write('output2.jpg')\n"
   ]
  },
  {
   "cell_type": "code",
   "execution_count": null,
   "id": "7d0ce08d-81c6-4cbb-93d6-8d704e89b317",
   "metadata": {
    "pycharm": {
     "name": "#%%\n"
    }
   },
   "outputs": [],
   "source": []
  }
 ],
 "metadata": {
  "kernelspec": {
   "display_name": "Python 3 (ipykernel)",
   "language": "python",
   "name": "python3"
  },
  "language_info": {
   "codemirror_mode": {
    "name": "ipython",
    "version": 3
   },
   "file_extension": ".py",
   "mimetype": "text/x-python",
   "name": "python",
   "nbconvert_exporter": "python",
   "pygments_lexer": "ipython3",
   "version": "3.8.13"
  }
 },
 "nbformat": 4,
 "nbformat_minor": 5
}